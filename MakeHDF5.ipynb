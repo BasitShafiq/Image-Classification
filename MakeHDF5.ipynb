{
 "cells": [
  {
   "cell_type": "code",
   "execution_count": 9,
   "id": "07be2020",
   "metadata": {},
   "outputs": [],
   "source": [
    "#Training DataSet\n",
    "import os\n",
    "import numpy as np\n",
    "from PIL import Image\n",
    "import h5py\n",
    "\n",
    "image_dir = 'D:\\\\Study\\\\PUCIT\\\\6th Semester\\\\ML\\Assignment-3\\\\images\\\\Training-Car'\n",
    "\n",
    "x_img = []  \n",
    "y_label = []  \n",
    "\n",
    "for filename in os.listdir(image_dir):\n",
    "    if filename.endswith('.jpeg') or filename.endswith('.png'):  \n",
    "        image_path = os.path.join(image_dir, filename)\n",
    "        img = Image.open(image_path)\n",
    "        img = img.resize((64, 64))  \n",
    "        img = np.array(img)\n",
    "        x_img.append(img)\n",
    "\n",
    "        if 'Car' in filename:\n",
    "            label = 1\n",
    "        else:\n",
    "            label = 0\n",
    "        y_label.append(label)\n",
    "\n",
    "x_img = np.array(x_img)\n",
    "y_label = np.array(y_label)\n",
    "\n",
    "with h5py.File('training_car_images.hdf5', 'w') as hf:\n",
    "    dset_x = hf.create_dataset('train_set_x', data=x_img, shape=x_img.shape, compression='gzip', chunks=True)\n",
    "    dset_y = hf.create_dataset('train_set_y', data=y_label, shape=y_label.shape, compression='gzip', chunks=True)\n"
   ]
  },
  {
   "cell_type": "code",
   "execution_count": 10,
   "id": "4967413b",
   "metadata": {},
   "outputs": [],
   "source": [
    "#Testing DataSet\n",
    "import os\n",
    "import numpy as np\n",
    "from PIL import Image\n",
    "import h5py\n",
    "\n",
    "image_dir = 'D:\\\\Study\\\\PUCIT\\\\6th Semester\\\\ML\\Assignment-3\\\\images\\\\Testing-Car'\n",
    "\n",
    "x_img = [] \n",
    "y_label = []  \n",
    "\n",
    "for filename in os.listdir(image_dir):\n",
    "    if filename.endswith('.jpeg') or filename.endswith('.png'): \n",
    "        image_path = os.path.join(image_dir, filename)\n",
    "        img = Image.open(image_path)\n",
    "        img = img.resize((64, 64))  \n",
    "        img = np.array(img)  \n",
    "        x_img.append(img)\n",
    "\n",
    "        if 'Car' in filename:\n",
    "            label = 1\n",
    "        else:\n",
    "            label = 0\n",
    "        y_label.append(label)\n",
    "\n",
    "x_img = np.array(x_img)\n",
    "y_label = np.array(y_label)\n",
    "\n",
    "with h5py.File('testing_car_images.hdf5', 'w') as hf:\n",
    "    dset_x = hf.create_dataset('test_set_x', data=x_img, shape=x_img.shape, compression='gzip', chunks=True)\n",
    "    dset_y = hf.create_dataset('test_set_y', data=y_label, shape=y_label.shape, compression='gzip', chunks=True)\n",
    "    dset_classes = hf.create_dataset('list_classes', data=np.array(['NonCar', 'Car'], dtype='S3'), compression='gzip')\n"
   ]
  },
  {
   "cell_type": "code",
   "execution_count": null,
   "id": "387f005a",
   "metadata": {},
   "outputs": [],
   "source": []
  },
  {
   "cell_type": "code",
   "execution_count": 40,
   "id": "58eb8be5",
   "metadata": {},
   "outputs": [],
   "source": []
  },
  {
   "cell_type": "code",
   "execution_count": null,
   "id": "67bd5402",
   "metadata": {},
   "outputs": [],
   "source": []
  }
 ],
 "metadata": {
  "kernelspec": {
   "display_name": "Python 3 (ipykernel)",
   "language": "python",
   "name": "python3"
  },
  "language_info": {
   "codemirror_mode": {
    "name": "ipython",
    "version": 3
   },
   "file_extension": ".py",
   "mimetype": "text/x-python",
   "name": "python",
   "nbconvert_exporter": "python",
   "pygments_lexer": "ipython3",
   "version": "3.11.2"
  }
 },
 "nbformat": 4,
 "nbformat_minor": 5
}
